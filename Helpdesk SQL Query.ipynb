{
    "metadata": {
        "kernelspec": {
            "name": "SQL",
            "display_name": "SQL",
            "language": "sql"
        },
        "language_info": {
            "name": "sql",
            "version": ""
        }
    },
    "nbformat_minor": 2,
    "nbformat": 4,
    "cells": [
        {
            "cell_type": "code",
            "source": [
                "SELECT COUNT(*) FROM ost_ticket; -- Get a total number of all tickets logged on the system"
            ],
            "metadata": {
                "azdata_cell_guid": "fc68e10f-8e6c-476c-bb03-c66158002b59",
                "language": "sql",
                "tags": []
            },
            "outputs": [],
            "execution_count": null
        },
        {
            "cell_type": "code",
            "source": [
                "SELECT COUNT(*) FROM ost_ticket WHERE DATE(created) = '2023-09-26'; --Enter date of ticket(s) to pull the info on"
            ],
            "metadata": {
                "azdata_cell_guid": "f8da09fa-9fd0-4f1e-8055-dc1dfbc0b52f",
                "language": "sql",
                "tags": []
            },
            "outputs": [],
            "execution_count": null
        },
        {
            "cell_type": "code",
            "source": [
                "SET @WeekNumber = '39';  -- Change this to select the week\r\n",
                "SET @Year = '2023'; -- Change this to select the year\r\n",
                "SELECT COUNT(*) FROM ost_ticket WHERE WEEKOFYEAR(created) = @weekNumber AND YEAR(created) = @Year; -- Get's all tickets logged within the selected week number"
            ],
            "metadata": {
                "azdata_cell_guid": "fa1d61b4-b8bf-4fe5-b034-d8684c6de8c5",
                "language": "sql",
                "tags": []
            },
            "outputs": [],
            "execution_count": null
        },
        {
            "cell_type": "code",
            "source": [
                "SET @MONTH_NAME = 'October'; -- Enter the selected month\r\n",
                "SET @Year = '2023'; -- Enter selected year\r\n",
                "SELECT COUNT(*) FROM ost_ticket WHERE MONTHNAME(created) = @MONTH_NAME AND YEAR(created) = @Year; -- Pull a number of tickets logged in a particular month."
            ],
            "metadata": {
                "azdata_cell_guid": "2b9da116-c3c0-4a4b-8738-a26401029f8e",
                "language": "sql",
                "tags": []
            },
            "outputs": [],
            "execution_count": null
        },
        {
            "cell_type": "code",
            "source": [
                "-- Get the status of all tickets logged on the system from day 1\r\n",
                "SELECT \r\n",
                "    ost_ticket.number AS ticket_number,\r\n",
                "    ost_user.name AS user_name,\r\n",
                "    ost_staff.firstname AS staff_name,\r\n",
                "    ost_ticket_status.name AS status_name,\r\n",
                "    ost_ticket.created AS date_opened,\r\n",
                "    ost_ticket.closed AS date_closed\r\n",
                "FROM \r\n",
                "    ost_ticket\r\n",
                "JOIN \r\n",
                "    ost_user ON ost_ticket.user_id = ost_user.id\r\n",
                "JOIN \r\n",
                "    ost_staff ON ost_ticket.staff_id = ost_staff.staff_id\r\n",
                "JOIN \r\n",
                "    ost_ticket_status ON ost_ticket.status_id = ost_ticket_status.id;\r\n",
                ""
            ],
            "metadata": {
                "azdata_cell_guid": "6e809e1e-4b7c-4564-afee-dee88d022b73",
                "language": "sql",
                "tags": []
            },
            "outputs": [],
            "execution_count": null
        },
        {
            "cell_type": "code",
            "source": [
                "-- \r\n",
                "SELECT status_id, COUNT(*) FROM ost_ticket WHERE DATE(created) = '2023-09-28' GROUP BY status_id;"
            ],
            "metadata": {
                "azdata_cell_guid": "6c78a03a-27c4-4227-b1c0-628077ac3dfa",
                "language": "sql",
                "tags": []
            },
            "outputs": [],
            "execution_count": null
        },
        {
            "cell_type": "code",
            "source": [
                "SELECT \r\n",
                "    ost_ticket.number AS ticket_number,\r\n",
                "    ost_user.name AS user_name,\r\n",
                "    ost_staff.firstname AS staff_name,\r\n",
                "    ost_ticket_status.name AS status_name,\r\n",
                "    ost_help_topic.topic AS help_topic,\r\n",
                "    ost_ticket.created AS date_opened,\r\n",
                "    ost_ticket.closed AS date_closed\r\n",
                "FROM \r\n",
                "    ost_ticket\r\n",
                "JOIN \r\n",
                "    ost_user ON ost_ticket.user_id = ost_user.id\r\n",
                "JOIN \r\n",
                "    ost_staff ON ost_ticket.staff_id = ost_staff.staff_id\r\n",
                "JOIN \r\n",
                "    ost_ticket_status ON ost_ticket.status_id = ost_ticket_status.id\r\n",
                "JOIN \r\n",
                "    ost_help_topic ON ost_ticket.topic_id = ost_help_topic.topic_id;\r\n",
                ""
            ],
            "metadata": {
                "azdata_cell_guid": "b3fbc190-f9ac-47eb-9f54-fb9036b8a753",
                "language": "sql",
                "tags": []
            },
            "outputs": [],
            "execution_count": null
        }
    ]
}