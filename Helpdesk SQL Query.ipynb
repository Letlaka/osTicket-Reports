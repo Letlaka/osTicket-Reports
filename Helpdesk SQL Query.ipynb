{
    "metadata": {
        "kernelspec": {
            "name": "SQL",
            "display_name": "SQL",
            "language": "sql"
        },
        "language_info": {
            "name": "sql",
            "version": ""
        }
    },
    "nbformat_minor": 2,
    "nbformat": 4,
    "cells": [
        {
            "cell_type": "code",
            "source": [
                "-- Get total of tickets logged in a specific date\r\n",
                "SET @date = '2023-10-04'; -- Enter date \"YYYY-MM-DD\"\r\n",
                "SELECT COUNT(*) FROM ost_ticket WHERE DATE(created) = @date;"
            ],
            "metadata": {
                "azdata_cell_guid": "f8da09fa-9fd0-4f1e-8055-dc1dfbc0b52f",
                "language": "sql",
                "tags": [
                    "hide_input"
                ]
            },
            "outputs": [],
            "execution_count": null
        },
        {
            "cell_type": "code",
            "source": [
                "-- Get total tickets logged in a specific week\r\n",
                "\r\n",
                "SET @WeekNumber = '39';  -- Change this to select the week\r\n",
                "SET @Year = '2023'; -- Change this to select the year\r\n",
                "SELECT COUNT(*) FROM ost_ticket WHERE WEEKOFYEAR(created) = @weekNumber AND YEAR(created) = @Year;"
            ],
            "metadata": {
                "azdata_cell_guid": "fa1d61b4-b8bf-4fe5-b034-d8684c6de8c5",
                "language": "sql",
                "tags": [
                    "hide_input"
                ]
            },
            "outputs": [],
            "execution_count": null
        },
        {
            "cell_type": "code",
            "source": [
                "-- Get total of tickets logged in a specific month\r\n",
                "\r\n",
                "SET @MONTH_NAME = 'October'; -- Enter the selected month\r\n",
                "SET @Year = '2023'; -- Enter selected year\r\n",
                "SELECT COUNT(*) FROM ost_ticket WHERE MONTHNAME(created) = @MONTH_NAME AND YEAR(created) = @Year;"
            ],
            "metadata": {
                "azdata_cell_guid": "2b9da116-c3c0-4a4b-8738-a26401029f8e",
                "language": "sql",
                "tags": [
                    "hide_input"
                ]
            },
            "outputs": [],
            "execution_count": null
        },
        {
            "cell_type": "code",
            "source": [
                "-- Get all tickets on the system\r\n",
                "SELECT \r\n",
                "    ost_ticket.number AS ticket_number,\r\n",
                "    ost_user.name AS user_name,\r\n",
                "    ost_staff.firstname AS staff_name,\r\n",
                "    ost_ticket_status.name AS status_name,\r\n",
                "    ost_help_topic.topic AS help_topic,\r\n",
                "    ost_ticket.created AS date_opened,\r\n",
                "    ost_ticket.closed AS date_closed\r\n",
                "FROM \r\n",
                "    ost_ticket\r\n",
                "JOIN \r\n",
                "    ost_user ON ost_ticket.user_id = ost_user.id\r\n",
                "JOIN \r\n",
                "    ost_staff ON ost_ticket.staff_id = ost_staff.staff_id\r\n",
                "JOIN \r\n",
                "    ost_ticket_status ON ost_ticket.status_id = ost_ticket_status.id\r\n",
                "JOIN \r\n",
                "    ost_help_topic ON ost_ticket.topic_id = ost_help_topic.topic_id;\r\n",
                ""
            ],
            "metadata": {
                "azdata_cell_guid": "b3fbc190-f9ac-47eb-9f54-fb9036b8a753",
                "language": "sql",
                "tags": [
                    "hide_input"
                ]
            },
            "outputs": [],
            "execution_count": null
        },
        {
            "cell_type": "code",
            "source": [
                "-- Get All tickets for a specific date\r\n",
                "Set @Day = '2023-10-02';\r\n",
                "SELECT \r\n",
                "    ost_ticket.number AS ticket_number,\r\n",
                "    ost_user.name AS user_name,\r\n",
                "    ost_staff.firstname AS staff_name,\r\n",
                "    ost_ticket_status.name AS status_name,\r\n",
                "    ost_help_topic.topic AS help_topic,\r\n",
                "    ost_ticket.created AS date_opened,\r\n",
                "    ost_ticket.closed AS date_closed\r\n",
                "FROM \r\n",
                "    ost_ticket\r\n",
                "JOIN \r\n",
                "    ost_user ON ost_ticket.user_id = ost_user.id\r\n",
                "JOIN \r\n",
                "    ost_staff ON ost_ticket.staff_id = ost_staff.staff_id\r\n",
                "JOIN \r\n",
                "    ost_ticket_status ON ost_ticket.status_id = ost_ticket_status.id\r\n",
                "JOIN \r\n",
                "    ost_help_topic ON ost_ticket.topic_id = ost_help_topic.topic_id\r\n",
                "WHERE DATE(ost_ticket.created) = @Day;\r\n",
                "\r\n",
                ""
            ],
            "metadata": {
                "language": "sql",
                "azdata_cell_guid": "ba74ecbe-201b-4566-b0fb-8815044433b5",
                "tags": [
                    "hide_input"
                ]
            },
            "outputs": [],
            "execution_count": null
        },
        {
            "cell_type": "code",
            "source": [
                "-- Get all tickets for a specific week\r\n",
                "Set @week_number = 40;\r\n",
                "Set @year = '2023';\r\n",
                "SELECT \r\n",
                "    ost_ticket.number AS ticket_number,\r\n",
                "    ost_user.name AS user_name,\r\n",
                "    ost_staff.firstname AS staff_name,\r\n",
                "    ost_ticket_status.name AS status_name,\r\n",
                "    ost_help_topic.topic AS help_topic,\r\n",
                "    ost_ticket.created AS date_opened,\r\n",
                "    ost_ticket.closed AS date_closed\r\n",
                "FROM \r\n",
                "    ost_ticket\r\n",
                "JOIN \r\n",
                "    ost_user ON ost_ticket.user_id = ost_user.id\r\n",
                "JOIN \r\n",
                "    ost_staff ON ost_ticket.staff_id = ost_staff.staff_id\r\n",
                "JOIN \r\n",
                "    ost_ticket_status ON ost_ticket.status_id = ost_ticket_status.id\r\n",
                "JOIN \r\n",
                "    ost_help_topic ON ost_ticket.topic_id = ost_help_topic.topic_id\r\n",
                "WHERE WEEK(ost_ticket.created) = @week_number AND YEAR(ost_ticket.created) = @year;\r\n",
                "\r\n",
                ""
            ],
            "metadata": {
                "language": "sql",
                "azdata_cell_guid": "6122835a-cd3c-46d4-9a4c-80b22d1c7e33",
                "tags": [
                    "hide_input"
                ]
            },
            "outputs": [],
            "execution_count": null
        },
        {
            "cell_type": "code",
            "source": [
                "-- Get all tickets for a specific month\r\n",
                "Set @month_number = 9;\r\n",
                "Set @year = '2023';\r\n",
                "SELECT \r\n",
                "    ost_ticket.number AS ticket_number,\r\n",
                "    ost_user.name AS user_name,\r\n",
                "    ost_staff.firstname AS staff_name,\r\n",
                "    ost_ticket_status.name AS status_name,\r\n",
                "    ost_help_topic.topic AS help_topic,\r\n",
                "    ost_ticket.created AS date_opened,\r\n",
                "    ost_ticket.closed AS date_closed\r\n",
                "FROM \r\n",
                "    ost_ticket\r\n",
                "JOIN \r\n",
                "    ost_user ON ost_ticket.user_id = ost_user.id\r\n",
                "JOIN \r\n",
                "    ost_staff ON ost_ticket.staff_id = ost_staff.staff_id\r\n",
                "JOIN \r\n",
                "    ost_ticket_status ON ost_ticket.status_id = ost_ticket_status.id\r\n",
                "JOIN \r\n",
                "    ost_help_topic ON ost_ticket.topic_id = ost_help_topic.topic_id\r\n",
                "WHERE MONTH(ost_ticket.created) = @month_number AND YEAR(ost_ticket.created) = @year;\r\n",
                "\r\n",
                ""
            ],
            "metadata": {
                "language": "sql",
                "azdata_cell_guid": "8ce2653b-900e-40e8-b489-ced5d710fee4",
                "tags": [
                    "hide_input"
                ]
            },
            "outputs": [],
            "execution_count": null
        },
        {
            "cell_type": "code",
            "source": [
                "-- Get all tickets for specific Months\r\n",
                "Set @month01 = '2023-09-01';\r\n",
                "Set @month02 = '2023-10-30';\r\n",
                "SELECT \r\n",
                "    ost_ticket.number AS ticket_number,\r\n",
                "    ost_user.name AS user_name,\r\n",
                "    ost_staff.firstname AS staff_name,\r\n",
                "    ost_ticket_status.name AS status_name,\r\n",
                "    ost_help_topic.topic AS help_topic,\r\n",
                "    ost_ticket.created AS date_opened,\r\n",
                "    ost_ticket.closed AS date_closed\r\n",
                "FROM \r\n",
                "    ost_ticket\r\n",
                "JOIN \r\n",
                "    ost_user ON ost_ticket.user_id = ost_user.id\r\n",
                "JOIN \r\n",
                "    ost_staff ON ost_ticket.staff_id = ost_staff.staff_id\r\n",
                "JOIN \r\n",
                "    ost_ticket_status ON ost_ticket.status_id = ost_ticket_status.id\r\n",
                "JOIN \r\n",
                "    ost_help_topic ON ost_ticket.topic_id = ost_help_topic.topic_id\r\n",
                "WHERE ost_ticket.created BETWEEN @month01 AND @month02;\r\n",
                "\r\n",
                ""
            ],
            "metadata": {
                "language": "sql",
                "azdata_cell_guid": "f7230d36-8f4e-411b-8125-81d4006c1789",
                "tags": [
                    "hide_input"
                ]
            },
            "outputs": [],
            "execution_count": null
        },
        {
            "cell_type": "code",
            "source": [
                "-- Get all tickets for the year\r\n",
                "Set @year = '2023';\r\n",
                "\r\n",
                "SELECT \r\n",
                "    ost_ticket.number AS ticket_number,\r\n",
                "    ost_user.name AS user_name,\r\n",
                "    ost_staff.firstname AS staff_name,\r\n",
                "    ost_ticket_status.name AS status_name,\r\n",
                "    ost_help_topic.topic AS help_topic,\r\n",
                "    ost_ticket.created AS date_opened,\r\n",
                "    ost_ticket.closed AS date_closed\r\n",
                "FROM \r\n",
                "    ost_ticket\r\n",
                "JOIN \r\n",
                "    ost_user ON ost_ticket.user_id = ost_user.id\r\n",
                "JOIN \r\n",
                "    ost_staff ON ost_ticket.staff_id = ost_staff.staff_id\r\n",
                "JOIN \r\n",
                "    ost_ticket_status ON ost_ticket.status_id = ost_ticket_status.id\r\n",
                "JOIN \r\n",
                "    ost_help_topic ON ost_ticket.topic_id = ost_help_topic.topic_id\r\n",
                "WHERE YEAR(ost_ticket.created) = @year;"
            ],
            "metadata": {
                "language": "sql",
                "azdata_cell_guid": "a712ace8-6bdc-46be-8962-278d3aa23693",
                "tags": [
                    "hide_input"
                ]
            },
            "outputs": [],
            "execution_count": null
        },
        {
            "cell_type": "code",
            "source": [
                "-- Get all tickets filtered by help topic\r\n",
                "\r\n",
                "Set @topic = 'Network Services';\r\n",
                "\r\n",
                "SELECT \r\n",
                "    ost_ticket.number AS ticket_number,\r\n",
                "    ost_user.name AS user_name,\r\n",
                "    ost_staff.firstname AS staff_name,\r\n",
                "    ost_ticket_status.name AS status_name,\r\n",
                "    ost_help_topic.topic AS help_topic,\r\n",
                "    ost_ticket.created AS date_opened,\r\n",
                "    ost_ticket.closed AS date_closed\r\n",
                "FROM \r\n",
                "    ost_ticket\r\n",
                "JOIN \r\n",
                "    ost_user ON ost_ticket.user_id = ost_user.id\r\n",
                "JOIN \r\n",
                "    ost_staff ON ost_ticket.staff_id = ost_staff.staff_id\r\n",
                "JOIN \r\n",
                "    ost_ticket_status ON ost_ticket.status_id = ost_ticket_status.id\r\n",
                "JOIN \r\n",
                "    ost_help_topic ON ost_ticket.topic_id = ost_help_topic.topic_id\r\n",
                "WHERE ost_help_topic.topic = @topic;"
            ],
            "metadata": {
                "language": "sql",
                "azdata_cell_guid": "b06418ae-a3dc-42fd-8ebf-2a1bb6ef384f",
                "tags": [
                    "hide_input"
                ]
            },
            "outputs": [],
            "execution_count": null
        },
        {
            "cell_type": "code",
            "source": [
                "-- Get all assigned tickets filtered by Agent\r\n",
                "\r\n",
                "Set @staff_name = 'Lazola';\r\n",
                "\r\n",
                "SELECT \r\n",
                "    ost_ticket.number AS ticket_number,\r\n",
                "    ost_user.name AS user_name,\r\n",
                "    ost_staff.firstname AS staff_name,\r\n",
                "    ost_ticket_status.name AS status_name,\r\n",
                "    ost_help_topic.topic AS help_topic,\r\n",
                "    ost_ticket.created AS date_opened,\r\n",
                "    ost_ticket.closed AS date_closed\r\n",
                "FROM \r\n",
                "    ost_ticket\r\n",
                "JOIN \r\n",
                "    ost_user ON ost_ticket.user_id = ost_user.id\r\n",
                "JOIN \r\n",
                "    ost_staff ON ost_ticket.staff_id = ost_staff.staff_id\r\n",
                "JOIN \r\n",
                "    ost_ticket_status ON ost_ticket.status_id = ost_ticket_status.id\r\n",
                "JOIN \r\n",
                "    ost_help_topic ON ost_ticket.topic_id = ost_help_topic.topic_id\r\n",
                "WHERE ost_staff.firstname = @staff_name;"
            ],
            "metadata": {
                "language": "sql",
                "azdata_cell_guid": "8083dfe3-1664-4518-8560-2b00dd6f3eec",
                "tags": [
                    "hide_input"
                ]
            },
            "outputs": [],
            "execution_count": null
        },
        {
            "cell_type": "code",
            "source": [
                "-- Get all tickets filtered by created date\r\n",
                "\r\n",
                "Set @Date01 = '2023-09-20'; -- \"YYYY-MM-DD\"\r\n",
                "Set @Date02 = '2023-10-04'; -- \"YYYY-MM-DD\"\r\n",
                "\r\n",
                "SELECT \r\n",
                "    ost_ticket.number AS ticket_number,\r\n",
                "    ost_user.name AS user_name,\r\n",
                "    ost_staff.firstname AS staff_name,\r\n",
                "    ost_ticket_status.name AS status_name,\r\n",
                "    ost_help_topic.topic AS help_topic,\r\n",
                "    ost_ticket.created AS date_opened,\r\n",
                "    ost_ticket.closed AS date_closed\r\n",
                "FROM \r\n",
                "    ost_ticket\r\n",
                "JOIN \r\n",
                "    ost_user ON ost_ticket.user_id = ost_user.id\r\n",
                "JOIN \r\n",
                "    ost_staff ON ost_ticket.staff_id = ost_staff.staff_id\r\n",
                "JOIN \r\n",
                "    ost_ticket_status ON ost_ticket.status_id = ost_ticket_status.id\r\n",
                "JOIN \r\n",
                "    ost_help_topic ON ost_ticket.topic_id = ost_help_topic.topic_id\r\n",
                "WHERE ost_ticket.created BETWEEN @Date01 AND @Date02"
            ],
            "metadata": {
                "language": "sql",
                "azdata_cell_guid": "1a54f9e6-0756-4b89-9f91-a3a00a7c7946",
                "tags": [
                    "hide_input"
                ]
            },
            "outputs": [],
            "execution_count": null
        },
        {
            "cell_type": "code",
            "source": [
                "-- Get all tickets filtered by status\r\n",
                "\r\n",
                "SET @status_name = 'closed'; -- SET the status as needed\r\n",
                "SELECT \r\n",
                "    ost_ticket.number AS ticket_number,\r\n",
                "    ost_user.name AS user_name,\r\n",
                "    ost_staff.firstname AS staff_name,\r\n",
                "    ost_ticket_status.name AS status_name,\r\n",
                "    ost_help_topic.topic AS help_topic,\r\n",
                "    ost_ticket.created AS date_opened,\r\n",
                "    ost_ticket.closed AS date_closed\r\n",
                "FROM \r\n",
                "    ost_ticket\r\n",
                "JOIN \r\n",
                "    ost_user ON ost_ticket.user_id = ost_user.id\r\n",
                "JOIN \r\n",
                "    ost_staff ON ost_ticket.staff_id = ost_staff.staff_id\r\n",
                "JOIN \r\n",
                "    ost_ticket_status ON ost_ticket.status_id = ost_ticket_status.id\r\n",
                "JOIN \r\n",
                "    ost_help_topic ON ost_ticket.topic_id = ost_help_topic.topic_id\r\n",
                "WHERE ost_ticket_status.name = @status_name;\r\n",
                ""
            ],
            "metadata": {
                "language": "sql",
                "azdata_cell_guid": "68980254-2f98-4124-bc45-087b200881bf",
                "tags": [
                    "hide_input"
                ]
            },
            "outputs": [],
            "execution_count": null
        },
        {
            "cell_type": "code",
            "source": [
                "-- Get all tickets logged by a specific user\r\n",
                "\r\n",
                "SET @user_name = 'Elsa Ludike'; -- SET as needed\r\n",
                "SELECT \r\n",
                "    ost_ticket.number AS ticket_number,\r\n",
                "    ost_user.name AS user_name,\r\n",
                "    ost_staff.firstname AS staff_name,\r\n",
                "    ost_ticket_status.name AS status_name,\r\n",
                "    ost_help_topic.topic AS help_topic,\r\n",
                "    ost_ticket.created AS date_opened,\r\n",
                "    ost_ticket.closed AS date_closed\r\n",
                "FROM \r\n",
                "    ost_ticket\r\n",
                "JOIN \r\n",
                "    ost_user ON ost_ticket.user_id = ost_user.id\r\n",
                "JOIN \r\n",
                "    ost_staff ON ost_ticket.staff_id = ost_staff.staff_id\r\n",
                "JOIN \r\n",
                "    ost_ticket_status ON ost_ticket.status_id = ost_ticket_status.id\r\n",
                "JOIN \r\n",
                "    ost_help_topic ON ost_ticket.topic_id = ost_help_topic.topic_id\r\n",
                "WHERE ost_user.name = @user_name;"
            ],
            "metadata": {
                "language": "sql",
                "azdata_cell_guid": "86da05c0-0c21-4a5e-b986-796a0120f8c5",
                "tags": [
                    "hide_input"
                ]
            },
            "outputs": [],
            "execution_count": null
        },
        {
            "cell_type": "code",
            "source": [
                "-- Get total of tickets by help topic\r\n",
                "\r\n",
                "SELECT ost_help_topic.topic AS help_topic, COUNT(*) AS total_tickets\r\n",
                "FROM ost_ticket\r\n",
                "JOIN ost_help_topic ON ost_ticket.topic_id = ost_help_topic.topic_id\r\n",
                "GROUP BY ost_help_topic.topic;\r\n",
                ""
            ],
            "metadata": {
                "language": "sql",
                "azdata_cell_guid": "146d8f89-f803-4de5-8a5f-21e29e8d9c16",
                "tags": [
                    "hide_input"
                ]
            },
            "outputs": [],
            "execution_count": null
        },
        {
            "cell_type": "markdown",
            "source": [
                "Still thinking how to set these up"
            ],
            "metadata": {
                "language": "sql",
                "azdata_cell_guid": "2a08d022-d8b9-48ba-891f-db600531e086"
            },
            "attachments": {}
        },
        {
            "cell_type": "code",
            "source": [
                "-- Get total tickets logged by agent (all time)\r\n",
                "\r\n",
                "SET @agent_name = 'Josias'; -- Set agents name\r\n",
                "\r\n",
                "SELECT ost_staff.firstname AS staff_name, COUNT(*) AS total_tickets\r\n",
                "FROM ost_ticket\r\n",
                "JOIN ost_staff ON ost_ticket.staff_id = ost_staff.staff_id\r\n",
                "WHERE ost_staff.firstname = @agent_name\r\n",
                "GROUP BY ost_staff.firstname;\r\n",
                ""
            ],
            "metadata": {
                "language": "sql",
                "azdata_cell_guid": "12c34bac-a69b-4ed0-b4bc-fa3fbd8c3d80",
                "tags": [
                    "hide_input"
                ]
            },
            "outputs": [],
            "execution_count": null
        },
        {
            "cell_type": "code",
            "source": [
                "-- Get totals per ticket status\r\n",
                "SELECT \r\n",
                "    IFNULL(ost_ticket_status.name, 'Grand Total') AS status_name, \r\n",
                "    COUNT(*) AS total_tickets\r\n",
                "FROM \r\n",
                "    ost_ticket\r\n",
                "JOIN \r\n",
                "    ost_ticket_status ON ost_ticket.status_id = ost_ticket_status.id\r\n",
                "GROUP BY \r\n",
                "    ost_ticket_status.name WITH ROLLUP;\r\n",
                ""
            ],
            "metadata": {
                "language": "sql",
                "azdata_cell_guid": "594174e7-82ff-4c04-a50a-7bc6d7c28435",
                "tags": [
                    "hide_input"
                ]
            },
            "outputs": [],
            "execution_count": null
        }
    ]
}